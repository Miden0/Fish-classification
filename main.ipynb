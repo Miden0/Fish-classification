{
 "cells": [
  {
   "cell_type": "code",
   "execution_count": 1,
   "metadata": {
    "collapsed": true
   },
   "outputs": [],
   "source": [
    "import numpy as np\n",
    "from sklearn.model_selection import train_test_split\n",
    "from lib.load_dataset import getds\n",
    "from pathlib import Path\n",
    "import matplotlib.pyplot as plt\n",
    "from multiprocessing import Pool, cpu_count\n",
    "from tensorflow.keras import layers, Sequential"
   ]
  },
  {
   "cell_type": "code",
   "execution_count": 3,
   "outputs": [
    {
     "name": "stdout",
     "output_type": "stream",
     "text": [
      "0\n",
      "1\n",
      "2\n",
      "3\n",
      "4\n",
      "5\n",
      "6\n",
      "7\n",
      "8\n"
     ]
    }
   ],
   "source": [
    "dataset_p = Path(\"./dataset\").glob(\"./*\")\n",
    "X, y = getds(dataset_p)\n",
    "X = X.reshape((9000, 128, 128, 3))"
   ],
   "metadata": {
    "collapsed": false,
    "pycharm": {
     "name": "#%%\n"
    }
   }
  },
  {
   "cell_type": "code",
   "execution_count": 4,
   "outputs": [],
   "source": [
    "X_train, X_test, y_train, y_test = train_test_split(X, y, test_size=0.2, stratify=y, random_state=0)\n",
    "del X, y"
   ],
   "metadata": {
    "collapsed": false,
    "pycharm": {
     "name": "#%%\n"
    }
   }
  },
  {
   "cell_type": "code",
   "execution_count": 11,
   "outputs": [],
   "source": [
    "model = Sequential([\n",
    "    layers.Conv2D(24, kernel_size=(3,3), activation=\"relu\", padding=\"same\", input_shape=(128, 128, 3)),\n",
    "    layers.MaxPool2D(2,2),\n",
    "    layers.Conv2D(24, kernel_size=(3,3), activation=\"relu\", padding=\"same\"),\n",
    "    layers.MaxPool2D(2,2),\n",
    "    layers.Conv2D(24, kernel_size=(3,3), activation=\"relu\", padding=\"same\"),\n",
    "    layers.MaxPool2D(2,2),\n",
    "\n",
    "    layers.Flatten(),\n",
    "    layers.Dense(614, activation=\"relu\"),\n",
    "    layers.Dropout(0.3),\n",
    "    layers.Dense(307, activation=\"relu\"),\n",
    "    layers.Dropout(0.3),\n",
    "    layers.Dense(9, activation=\"sigmoid\"),\n",
    "])\n",
    "\n",
    "model.compile(optimizer=\"adam\",\n",
    "              loss=\"sparse_categorical_crossentropy\",\n",
    "              metrics=(\"accuracy\",))\n"
   ],
   "metadata": {
    "collapsed": false,
    "pycharm": {
     "name": "#%%\n"
    }
   }
  },
  {
   "cell_type": "code",
   "execution_count": 12,
   "outputs": [
    {
     "name": "stdout",
     "output_type": "stream",
     "text": [
      "Epoch 1/4\n",
      "225/225 [==============================] - 68s 286ms/step - loss: 3.0252 - accuracy: 0.4117\n",
      "Epoch 2/4\n",
      "225/225 [==============================] - 63s 281ms/step - loss: 1.3051 - accuracy: 0.7031\n",
      "Epoch 3/4\n",
      "225/225 [==============================] - 62s 276ms/step - loss: 1.0384 - accuracy: 0.8028\n",
      "Epoch 4/4\n",
      "225/225 [==============================] - 63s 280ms/step - loss: 0.8930 - accuracy: 0.8442\n"
     ]
    },
    {
     "data": {
      "text/plain": "<keras.callbacks.History at 0x1f0d45e6340>"
     },
     "execution_count": 12,
     "metadata": {},
     "output_type": "execute_result"
    }
   ],
   "source": [
    "model.fit(X_train, y_train, epochs=4)"
   ],
   "metadata": {
    "collapsed": false,
    "pycharm": {
     "name": "#%%\n"
    }
   }
  },
  {
   "cell_type": "code",
   "execution_count": 13,
   "outputs": [
    {
     "name": "stdout",
     "output_type": "stream",
     "text": [
      "57/57 [==============================] - 8s 63ms/step - loss: 0.7852 - accuracy: 0.8817\n"
     ]
    },
    {
     "data": {
      "text/plain": "[0.785220742225647, 0.8816666603088379]"
     },
     "execution_count": 13,
     "metadata": {},
     "output_type": "execute_result"
    }
   ],
   "source": [
    "model.evaluate(X_test, y_test)"
   ],
   "metadata": {
    "collapsed": false,
    "pycharm": {
     "name": "#%%\n"
    }
   }
  }
 ],
 "metadata": {
  "kernelspec": {
   "display_name": "Python 3",
   "language": "python",
   "name": "python3"
  },
  "language_info": {
   "codemirror_mode": {
    "name": "ipython",
    "version": 2
   },
   "file_extension": ".py",
   "mimetype": "text/x-python",
   "name": "python",
   "nbconvert_exporter": "python",
   "pygments_lexer": "ipython2",
   "version": "2.7.6"
  }
 },
 "nbformat": 4,
 "nbformat_minor": 0
}